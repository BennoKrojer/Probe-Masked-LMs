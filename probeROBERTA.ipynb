{
  "nbformat": 4,
  "nbformat_minor": 0,
  "metadata": {
    "colab": {
      "name": "probeROBERTA.ipynb",
      "provenance": [],
      "machine_shape": "hm",
      "authorship_tag": "ABX9TyPBxuB92f7IIqUsg9OHcSCe",
      "include_colab_link": true
    },
    "kernelspec": {
      "name": "python3",
      "display_name": "Python 3"
    },
    "accelerator": "GPU"
  },
  "cells": [
    {
      "cell_type": "markdown",
      "metadata": {
        "id": "view-in-github",
        "colab_type": "text"
      },
      "source": [
        "<a href=\"https://colab.research.google.com/github/BennoKrojer/Probe-Masked-LMs/blob/master/probeROBERTA.ipynb\" target=\"_parent\"><img src=\"https://colab.research.google.com/assets/colab-badge.svg\" alt=\"Open In Colab\"/></a>"
      ]
    },
    {
      "cell_type": "code",
      "metadata": {
        "id": "tSmlUUegm046",
        "colab_type": "code",
        "colab": {}
      },
      "source": [
        "!pip install transformers\n",
        "!pip install torch"
      ],
      "execution_count": 0,
      "outputs": []
    },
    {
      "cell_type": "markdown",
      "metadata": {
        "id": "Ryq6wcjZeelZ",
        "colab_type": "text"
      },
      "source": [
        "Let's first set up our probes and some detailed settings."
      ]
    },
    {
      "cell_type": "code",
      "metadata": {
        "id": "XQwkcDpP6fsJ",
        "colab_type": "code",
        "colab": {}
      },
      "source": [
        "subjects = ['France', 'Paris', 'Berlin','Haidhausen', 'Mount Everest', 'My heart']\n",
        "relation = 'is located in'\n",
        "answers = ['Europe', 'France', 'Germany', ['Munich', 'Bavaria', 'Germany'], ['Nepal', 'China'], ''] # If there is no correct answer, simply put '' in the list\n",
        "probes = [f'{subj} {relation}' for subj in subjects]\n",
        "cased_model = True\n",
        "numb_predictions_displayed = 5\n",
        "ignore_self_reference_output = True # RoBERTa tends to predict the subject again in many cases. This can be ignored."
      ],
      "execution_count": 0,
      "outputs": []
    },
    {
      "cell_type": "code",
      "metadata": {
        "id": "lIt6Nn7um8WQ",
        "colab_type": "code",
        "outputId": "0ed9152b-6cd5-486d-bfea-6f6d21906b2a",
        "colab": {
          "base_uri": "https://localhost:8080/",
          "height": 272
        }
      },
      "source": [
        "import torch\n",
        "from transformers import RobertaTokenizer, RobertaForMaskedLM\n",
        "\n",
        "tokenizer = RobertaTokenizer.from_pretrained('roberta-large')\n",
        "model = RobertaForMaskedLM.from_pretrained('roberta-large')\n",
        "model.eval()\n",
        "\n",
        "output = {'correct': [], 'false': [], 'undefined': []}\n",
        "for probe, answer in zip(probes, answers):\n",
        "  text = f'{probe} <mask>.'\n",
        "  tokenized_text = tokenizer.tokenize(text)\n",
        "  masked_index = tokenized_text.index('<mask>')+1\n",
        "  input_ids = torch.tensor(tokenizer.encode(tokenized_text,add_special_tokens=True)).unsqueeze(0)\n",
        "  with torch.no_grad():\n",
        "    outputs = model(input_ids, masked_lm_labels=input_ids)\n",
        "    loss, prediction_scores = outputs[:2]\n",
        "  predicted_k_indexes = torch.topk(prediction_scores[0, masked_index],k=numb_predictions_displayed)\n",
        "  predicted_indexes_list = predicted_k_indexes[1]\n",
        "  predicted_tokens = [tokenizer.decode(i).strip() for i in predicted_indexes_list.tolist()]\n",
        "  if answer:\n",
        "    if isinstance(answer, str):\n",
        "      answer = [answer]\n",
        "    first_pred = predicted_tokens[0]\n",
        "    if first_pred == tokenized_text[1]:\n",
        "      first_pred = predicted_tokens[1]\n",
        "    if first_pred in answer:\n",
        "      output['correct'].append((probe, predicted_tokens))\n",
        "    else:\n",
        "      output['false'].append((probe, predicted_tokens))\n",
        "  else:\n",
        "    output['undefined'].append((probe, predicted_tokens))\n",
        "\n",
        "for key, val in output.items():\n",
        "  print(key)\n",
        "  for probe, predicted_tokens in val:\n",
        "    print(f'{probe} [MASK] → {predicted_tokens}')\n",
        "  print('\\n')"
      ],
      "execution_count": 6,
      "outputs": [
        {
          "output_type": "stream",
          "text": [
            "correct\n",
            "France is located in [MASK] → ['Europe', 'Asia', 'Africa', 'France', 'Spain']\n",
            "Paris is located in [MASK] → ['France', 'Paris', 'Europe', 'Belgium', 'Spain']\n",
            "Berlin is located in [MASK] → ['Germany', 'Berlin', 'Austria', 'Europe', 'Poland']\n",
            "Haidhausen is located in [MASK] → ['Germany', 'Austria', 'Switzerland', 'Belgium', 'Poland']\n",
            "Mount Everest is located in [MASK] → ['Nepal', 'Tibet', 'India', 'China', 'Asia']\n",
            "\n",
            "\n",
            "false\n",
            "\n",
            "\n",
            "undefined\n",
            "My heart is located in [MASK] → ['Texas', 'California', 'Chicago', 'Ohio', 'Boston']\n",
            "\n",
            "\n"
          ],
          "name": "stdout"
        }
      ]
    },
    {
      "cell_type": "code",
      "metadata": {
        "id": "9QGiBsPNnE89",
        "colab_type": "code",
        "colab": {}
      },
      "source": [
        ""
      ],
      "execution_count": 0,
      "outputs": []
    }
  ]
}