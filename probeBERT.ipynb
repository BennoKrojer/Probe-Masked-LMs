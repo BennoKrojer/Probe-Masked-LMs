{
  "nbformat": 4,
  "nbformat_minor": 0,
  "metadata": {
    "colab": {
      "name": "probeBERT.ipynb",
      "provenance": [],
      "mount_file_id": "1x-SJSL-ayVz6lezuATBaPPilUeedtv2_",
      "authorship_tag": "ABX9TyPmNrnWSDqR1da178XsyoO/",
      "include_colab_link": true
    },
    "kernelspec": {
      "name": "python3",
      "display_name": "Python 3"
    },
    "accelerator": "GPU"
  },
  "cells": [
    {
      "cell_type": "markdown",
      "metadata": {
        "id": "view-in-github",
        "colab_type": "text"
      },
      "source": [
        "<a href=\"https://colab.research.google.com/github/BennoKrojer/Probe-Masked-LMs/blob/master/probeBERT.ipynb\" target=\"_parent\"><img src=\"https://colab.research.google.com/assets/colab-badge.svg\" alt=\"Open In Colab\"/></a>"
      ]
    },
    {
      "cell_type": "markdown",
      "metadata": {
        "id": "xcOSzM4ddYwH",
        "colab_type": "text"
      },
      "source": [
        "This is a simple Notebook to probe BERT for facts in the form \"Subject relation [clozed object]\"."
      ]
    },
    {
      "cell_type": "code",
      "metadata": {
        "id": "TnH7YtxQM7Km",
        "colab_type": "code",
        "colab": {}
      },
      "source": [
        "!pip install transformers\n",
        "!pip install torch"
      ],
      "execution_count": 0,
      "outputs": []
    },
    {
      "cell_type": "code",
      "metadata": {
        "id": "XQwkcDpP6fsJ",
        "colab_type": "code",
        "colab": {}
      },
      "source": [
        "subjects = ['France', 'Paris', 'Berlin', 'Kansas']\n",
        "relation = 'is located in'\n",
        "raw_probes = [subj for subj in subjects]\n",
        "nice is a synonym of\n",
        "good is a synonym of\n",
        "bad is a synonym of\n",
        "sweet is a synonym of\n",
        "red is a synonym of\n",
        "pretty is a synonym of\n",
        "beautiful is a synonym of\n",
        "friendly is a synonym of\n",
        "usual is a synonym of\n",
        "common is a synonym of\n",
        "ordinary is a synonym of\n",
        "\"\"\"\n",
        "oneto1 = False"
      ],
      "execution_count": 0,
      "outputs": []
    },
    {
      "cell_type": "code",
      "metadata": {
        "id": "tRNTd42zopnR",
        "colab_type": "code",
        "outputId": "e2f7e281-59c8-42bf-dcca-6b2fde92282e",
        "colab": {
          "base_uri": "https://localhost:8080/",
          "height": 224
        }
      },
      "source": [
        "import torch\n",
        "from transformers import BertTokenizer, BertModel, BertForMaskedLM, RobertaForMaskedLM, RobertaTokenizer\n",
        "import numpy as np\n",
        "\n",
        "# from: https://huggingface.co/transformers/quickstart.html#bert-example\n",
        "\n",
        "tokenizer = BertTokenizer.from_pretrained('bert-large-uncased')\n",
        "model = BertForMaskedLM.from_pretrained('bert-large-uncased')\n",
        "model.eval()\n",
        "\n",
        "previous_preds = []\n",
        "previous_ent = ''\n",
        "both_correct = ''\n",
        "both_correct_c = 0\n",
        "both_false = ''\n",
        "both_false_c = 0\n",
        "asymmetric_false = \"\"\n",
        "asymmetric_c = 0\n",
        "rest = []\n",
        "probes = probes_raw.split('\\n')\n",
        "for i, probe in enumerate(probes):\n",
        "  if len(probe) > 5:\n",
        "    text = f'[CLS] {probe} [MASK] . [SEP]'\n",
        "    tokenized_text = tokenizer.tokenize(text)\n",
        "    masked_index = [i for i, x in enumerate(tokenized_text) if x == '[MASK]'][0]\n",
        "    # print(tokenized_text)\n",
        "\n",
        "    indexed_tokens = tokenizer.convert_tokens_to_ids(tokenized_text)\n",
        "    segments_ids = [0]*len(tokenized_text)\n",
        "\n",
        "    tokens_tensor = torch.tensor([indexed_tokens])\n",
        "    segments_tensors = torch.tensor([segments_ids])\n",
        "\n",
        "    # Predict all tokens\n",
        "    with torch.no_grad():\n",
        "        outputs = model(tokens_tensor, token_type_ids=segments_tensors)\n",
        "        predictions = outputs[0][0][masked_index]\n",
        "    predicted_ids = torch.argsort(predictions, descending=True)[:20]\n",
        "    predicted_tokens = tokenizer.convert_ids_to_tokens(list(predicted_ids))\n",
        "    if oneto1:\n",
        "      if i % 2 == 1:\n",
        "        previous_preds = predicted_tokens\n",
        "        previous_ent = probe.split(\"'\")[0]\n",
        "      else:\n",
        "        current_ent = probe.split()[0]\n",
        "        current_prediction = predicted_tokens[0] if predicted_tokens[0] != current_ent else predicted_tokens[1] \n",
        "        prev_prediction = previous_preds[0] if previous_preds[0] != previous_ent else previous_preds[1]\n",
        "        if current_ent == prev_prediction and current_prediction == previous_ent:\n",
        "          both_correct += f'{probes[i-1]} [MASK] → {previous_preds}\\n{probe} [MASK] → {predicted_tokens}\\n'\n",
        "          both_correct_c += 1\n",
        "        elif current_ent != prev_prediction and current_prediction != previous_ent:\n",
        "          both_false += f'{probes[i-1]} [MASK] → {previous_preds}\\n{probe} [MASK] → {predicted_tokens}\\n'\n",
        "          both_false_c += 1\n",
        "        else:\n",
        "          asymmetric_false += f'{probes[i-1]} [MASK] → {previous_preds}\\n{probe} [MASK] → {predicted_tokens}\\n'\n",
        "          asymmetric_c += 1\n",
        "    else:\n",
        "      print(f'{probe} [MASK] → {predicted_tokens}')\n",
        "\n",
        "if oneto1:\n",
        "  print(both_correct_c)\n",
        "  print(both_false_c)\n",
        "  print(asymmetric_c)\n",
        "  print('both correct:')\n",
        "  print(both_correct)\n",
        "  print('both false')\n",
        "  print(both_false)\n",
        "  print('asymmetrically false')\n",
        "  print(asymmetric_false)\n",
        "\n",
        "\n",
        "    # print(f'{probe} [MASK] → {predicted_tokens}')\n",
        "\n"
      ],
      "execution_count": 0,
      "outputs": [
        {
          "output_type": "stream",
          "text": [
            "nice is a synonym of [MASK] → ['nice', 'it', 'var', 'ana', 'io', 'cicero', 'minor', 'bella', 'venus', '[UNK]', 'ca', 'this', 'normal', 'homo', 'c', 'p', 'mons', 'florida', 'pseudo', 'nova']\n",
            "good is a synonym of [MASK] → ['good', 'bad', 'excellent', 'perfect', 'great', 'superb', 'nice', 'gold', 'best', 'beautiful', 'fair', 'sir', 'fine', 'poor', 'evil', 'b', 'it', 'venus', 'minor', 'p']\n",
            "bad is a synonym of [MASK] → ['good', 'bad', 'big', 'sir', 'nice', 'mad', 'it', 'red', 'b', 'black', 'la', 'pro', 'great', 'gold', 'perfect', 'old', 'no', 'excellent', 'vice', 'negro']\n",
            "sweet is a synonym of [MASK] → ['sweet', 'red', 'black', 'rose', 'white', 'gray', 'brown', 'good', 'blue', 'love', 'yellow', 'bird', '[UNK]', 'kali', 'jack', 'sugar', 'honey', 'bitter', 'may', 'winter']\n",
            "red is a synonym of [MASK] → ['black', 'blue', 'yellow', 'red', 'white', 'green', 'brown', 'orange', 'gold', 'purple', 'grey', 'gray', 'violet', 'pink', 'dark', 'silver', 'rose', 'ruby', 'pale', 'sapphire']\n",
            "pretty is a synonym of [MASK] → ['bella', 'iris', 'doris', 'it', 'minor', 'io', 'venus', 'diana', 'viola', '[UNK]', 'niger', 'nice', 'montana', 'dora', 'leo', 'delta', 'mona', 'melissa', 'nova', 'nana']\n",
            "beautiful is a synonym of [MASK] → ['beautiful', 'lovely', 'bella', 'beauty', 'gorgeous', 'pretty', 'miss', 'handsome', 'perfect', 'princess', 'venus', 'nice', 'ugly', 'brilliant', 'splendid', 'magnificent', '[UNK]', 'red', 'rose', 'mia']\n",
            "friendly is a synonym of [MASK] → ['[UNK]', 'venus', 'it', 'nova', 'nebula', 'montana', 'mora', 'florida', 'leo', 'rana', 'octopus', 'pluto', 'java', 'antarctica', 'mars', 'io', 'lotus', 'delta', 'bella', 'niger']\n",
            "usual is a synonym of [MASK] → ['[UNK]', 'it', 'iris', 'sp', 'octopus', 'mora', 'nova', 'leo', 'm', 'p', 'montana', 'venus', 'c', 'doris', 'delta', 'helena', 'viola', 'geometridae', 'io', 'rana']\n",
            "common is a synonym of [MASK] → ['var', 'sp', 'p', 'minor', 'it', 'nova', 'm', 'b', 'major', 'c', 'mt', 'species', 'common', 'a', 'ave', 'viola', '[UNK]', 'iris', 'hon', 'n']\n",
            "ordinary is a synonym of [MASK] → ['[UNK]', 'it', 'minor', 'ana', 'mono', 'm', '†', 'nova', 'venus', 'p', 'c', 'sic', 'o', 'sp', 'bella', 'la', 'normal', 'nebula', 'b', 'negro']\n"
          ],
          "name": "stdout"
        }
      ]
    },
    {
      "cell_type": "code",
      "metadata": {
        "id": "nzSnYko6_xG6",
        "colab_type": "code",
        "colab": {}
      },
      "source": [
        ""
      ],
      "execution_count": 0,
      "outputs": []
    }
  ]
}